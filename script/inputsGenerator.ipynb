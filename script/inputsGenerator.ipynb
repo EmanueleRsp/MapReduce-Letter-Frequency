{
 "cells": [
  {
   "cell_type": "code",
   "execution_count": 10,
   "metadata": {},
   "outputs": [
    {
     "name": "stdout",
     "output_type": "stream",
     "text": [
      "Generating ../resources/performance/input/file_3KB.txt...\n",
      "File ../resources/performance/input/file_3KB.txt generated successfully.\n",
      "Generating ../resources/performance/input/file_3MB.txt...\n",
      "File ../resources/performance/input/file_3MB.txt generated successfully.\n",
      "Generating ../resources/performance/input/file_3GB.txt...\n",
      "File ../resources/performance/input/file_3GB.txt generated successfully.\n"
     ]
    }
   ],
   "source": [
    "import os\n",
    "import random\n",
    "import string\n",
    "\n",
    "# Dimensioni dei file in bytes\n",
    "sizes = [3 * 1024, 3 * 1024 * 1024, 3 * 1024 * 1024 * 1024]\n",
    "chunk_size = 512  # Dimensione del chunk in bytes\n",
    "\n",
    "# Nomi dei file\n",
    "file_dir = \"../resources/performance/input\"\n",
    "filenames = [os.path.join(file_dir, \"file_3KB.txt\"), \n",
    "             os.path.join(file_dir, \"file_3MB.txt\"), \n",
    "             os.path.join(file_dir, \"file_3GB.txt\")]\n",
    "\n",
    "# Genera una stringa di lettere casuali\n",
    "def generate_random_string(length):\n",
    "    letters = string.ascii_letters\n",
    "    return ''.join(random.choice(letters) for i in range(length))\n",
    "\n",
    "for size, filename in zip(sizes, filenames):\n",
    "    print(f\"Generating {filename}...\")\n",
    "    with open(filename, 'w') as f:\n",
    "        for _ in range(size // chunk):\n",
    "            chunk = random.choice(range(1, chunk_size + 1))\n",
    "            f.write(generate_random_string(chunk))\n",
    "            f.write('\\n')\n",
    "        remaining = size % chunk\n",
    "        if remaining:\n",
    "            f.write(generate_random_string(remaining))\n",
    "    print(f\"File {filename} generated successfully.\")"
   ]
  }
 ],
 "metadata": {
  "kernelspec": {
   "display_name": "Python 3",
   "language": "python",
   "name": "python3"
  },
  "language_info": {
   "codemirror_mode": {
    "name": "ipython",
    "version": 3
   },
   "file_extension": ".py",
   "mimetype": "text/x-python",
   "name": "python",
   "nbconvert_exporter": "python",
   "pygments_lexer": "ipython3",
   "version": "3.10.12"
  }
 },
 "nbformat": 4,
 "nbformat_minor": 2
}
