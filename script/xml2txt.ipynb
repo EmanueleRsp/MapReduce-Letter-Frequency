{
 "cells": [
  {
   "cell_type": "markdown",
   "metadata": {},
   "source": [
    "# Script for xml to txt conversion"
   ]
  },
  {
   "cell_type": "markdown",
   "metadata": {},
   "source": [
    "This script is used to convert the xml files to txt files. The xml files are present in the `resources\\xml` folder and the txt files are saved in the `resources\\txt` folder. The txt files are saved with the same name as the xml files."
   ]
  },
  {
   "cell_type": "markdown",
   "metadata": {},
   "source": [
    "### Xml partitioning"
   ]
  },
  {
   "cell_type": "markdown",
   "metadata": {},
   "source": [
    "Xml files are organized in logical groups: when the xml files are converted to txt files, each txt files will contain the aggregated text from the xml files in the same group.\n",
    "This allows the generation of larger txt files that can be used for testing the Workflow."
   ]
  },
  {
   "cell_type": "markdown",
   "metadata": {},
   "source": [
    "### Code"
   ]
  },
  {
   "cell_type": "code",
   "execution_count": 6,
   "metadata": {},
   "outputs": [
    {
     "name": "stdout",
     "output_type": "stream",
     "text": [
      "Directory: performance\n"
     ]
    }
   ],
   "source": [
    "# Adding imports\n",
    "import os\n",
    "import re\n",
    "import shutil\n",
    "import xml.etree.ElementTree as ET\n",
    "from xml.etree.ElementTree import iterparse\n",
    "\n",
    "# Specify the directory where XML files and input files are stored\n",
    "file_dir = 'performance'\n",
    "print('Directory:', file_dir)"
   ]
  },
  {
   "cell_type": "code",
   "execution_count": 7,
   "metadata": {},
   "outputs": [
    {
     "name": "stdout",
     "output_type": "stream",
     "text": [
      "XML directory: ../resources/performance/xml\n",
      "Text directory: ../resources/performance/input\n"
     ]
    }
   ],
   "source": [
    "# Path of the directory containing the XML files\n",
    "xml_dir = os.path.join('..','resources', file_dir, 'xml')\n",
    "# Path of the directory where to save the text files\n",
    "txt_dir = os.path.join('..','resources', file_dir, 'input')\n",
    "\n",
    "print(f'XML directory: {xml_dir}')\n",
    "print(f'Text directory: {txt_dir}')"
   ]
  },
  {
   "cell_type": "code",
   "execution_count": 8,
   "metadata": {},
   "outputs": [],
   "source": [
    "# List of files we are going to overload\n",
    "files = []\n",
    "for dirpath, dirnames, filenames in os.walk(xml_dir):\n",
    "    for filename in filenames:\n",
    "        # Check if the file has .xml extension\n",
    "        if filename.endswith('.xml'):\n",
    "            # Create the name of the output file by using the parent directory name\n",
    "            output_filename = os.path.join(txt_dir, os.path.basename(dirpath) + '.txt')\n",
    "            # Append the file to the list\n",
    "            files.append(output_filename)\n",
    "\n",
    "# Clean the txt_dir directory (only for file we specified if they already exist)\n",
    "for file in files:\n",
    "    if os.path.exists(file):\n",
    "        os.remove(file)\n"
   ]
  },
  {
   "cell_type": "code",
   "execution_count": 9,
   "metadata": {},
   "outputs": [],
   "source": [
    "# Function to extract the text from the XML file\n",
    "def extract_text_from_xml(xml_file, output_file):\n",
    "    namespace = '{http://www.mediawiki.org/xml/export-0.10/}'\n",
    "\n",
    "    # Open the output file\n",
    "    with open(output_file, 'a', encoding='utf-8') as f:\n",
    "        # Use iterparse to create an iterator over the XML file\n",
    "        for event, elem in iterparse(xml_file, events=('end',)):\n",
    "            # Check if the element is a page\n",
    "            if elem.tag == namespace + 'page':\n",
    "                text_elements = elem.findall('.//' + namespace + 'revision/' + namespace + 'text')\n",
    "                for text_element in text_elements:\n",
    "                    if text_element is not None and text_element.text is not None:\n",
    "                        text = text_element.text\n",
    "                        # Remove the unwanted part using regex\n",
    "                        text = re.sub(r'<div.*?>.*?</div>', '', text, flags=re.DOTALL)\n",
    "                        # Write the text directly to the output file\n",
    "                        f.write(text + '\\n\\n')\n",
    "                # Clear the page element from memory once we're done with it\n",
    "                elem.clear()\n"
   ]
  },
  {
   "cell_type": "code",
   "execution_count": 10,
   "metadata": {},
   "outputs": [
    {
     "name": "stdout",
     "output_type": "stream",
     "text": [
      "The content of ita-XXI-ext.xml has been appended to ../resources/performance/input/performance-GB.txt\n",
      "The content of ita-XX-ext.xml has been appended to ../resources/performance/input/performance-GB.txt\n",
      "The content of ita-XXI.xml has been appended to ../resources/performance/input/performance-MB.txt\n",
      "The content of ita-XX.xml has been appended to ../resources/performance/input/performance-MB.txt\n"
     ]
    }
   ],
   "source": [
    "# Walk through xml_dir directory# Walk through xml_dir directory\n",
    "for dirpath, dirnames, filenames in os.walk(xml_dir):\n",
    "    for filename in filenames:\n",
    "        # Check if the file has .xml extension\n",
    "        if filename.endswith('.xml'):\n",
    "            xml_file = os.path.join(dirpath, filename)\n",
    "            # Create the name of the output file by using the parent directory name\n",
    "            output_file = os.path.join(txt_dir, os.path.basename(dirpath) + '.txt')\n",
    "            # Extract the text from the XML file and append it to the output file\n",
    "            extract_text_from_xml(xml_file, output_file)\n",
    "\n",
    "            print(f'The content of {filename} has been appended to {output_file}')"
   ]
  }
 ],
 "metadata": {
  "kernelspec": {
   "display_name": "Python 3",
   "language": "python",
   "name": "python3"
  },
  "language_info": {
   "codemirror_mode": {
    "name": "ipython",
    "version": 3
   },
   "file_extension": ".py",
   "mimetype": "text/x-python",
   "name": "python",
   "nbconvert_exporter": "python",
   "pygments_lexer": "ipython3",
   "version": "3.10.12"
  }
 },
 "nbformat": 4,
 "nbformat_minor": 2
}
