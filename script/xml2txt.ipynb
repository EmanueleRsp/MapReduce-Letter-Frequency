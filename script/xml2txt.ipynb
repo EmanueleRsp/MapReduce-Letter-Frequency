{
 "cells": [
  {
   "cell_type": "markdown",
   "metadata": {},
   "source": [
    "# Script for xml to txt conversion"
   ]
  },
  {
   "cell_type": "markdown",
   "metadata": {},
   "source": [
    "This script is used to convert the xml files to txt files. The xml files are present in the `resources\\xml` folder and the txt files are saved in the `resources\\txt` folder. The txt files are saved with the same name as the xml files."
   ]
  },
  {
   "cell_type": "markdown",
   "metadata": {},
   "source": [
    "### Xml partitioning"
   ]
  },
  {
   "cell_type": "markdown",
   "metadata": {},
   "source": [
    "Xml files are organized in logical groups: when the xml files are converted to txt files, each txt files will contain the aggregated text from the xml files in the same group.\n",
    "This allows the generation of larger txt files that can be used for testing the Workflow."
   ]
  },
  {
   "cell_type": "markdown",
   "metadata": {},
   "source": [
    "### Code"
   ]
  },
  {
   "cell_type": "code",
   "execution_count": 4,
   "metadata": {},
   "outputs": [],
   "source": [
    "# Adding imports\n",
    "import os\n",
    "import re\n",
    "import xml.etree.ElementTree as ET"
   ]
  },
  {
   "cell_type": "code",
   "execution_count": 5,
   "metadata": {},
   "outputs": [
    {
     "name": "stdout",
     "output_type": "stream",
     "text": [
      "XML directory: ../resources/xml\n",
      "Text directory: ../resources/input\n"
     ]
    }
   ],
   "source": [
    "# Path of the directory containing the XML files\n",
    "xml_dir = os.path.join('..','resources', 'xml')\n",
    "# Path of the directory where to save the text files\n",
    "txt_dir = os.path.join('..','resources', 'input')\n",
    "\n",
    "print(f'XML directory: {xml_dir}')\n",
    "print(f'Text directory: {txt_dir}')"
   ]
  },
  {
   "cell_type": "code",
   "execution_count": 6,
   "metadata": {},
   "outputs": [],
   "source": [
    "# Clean the txt_dir directory\n",
    "for filename in os.listdir(txt_dir):\n",
    "    file_path = os.path.join(txt_dir, filename)\n",
    "    try:\n",
    "        if os.path.isfile(file_path):\n",
    "            os.remove(file_path)\n",
    "            print(f'{file_path} has been deleted')\n",
    "    except Exception as e:\n",
    "        print(f'Failed to delete {file_path}. Reason: {e}')"
   ]
  },
  {
   "cell_type": "code",
   "execution_count": 7,
   "metadata": {},
   "outputs": [],
   "source": [
    "# Function to extract the text from the XML file\n",
    "def extract_text_from_xml(xml_file):\n",
    "    tree = ET.parse(xml_file)\n",
    "    root = tree.getroot()\n",
    "\n",
    "    namespace = '{http://www.mediawiki.org/xml/export-0.10/}'\n",
    "    \n",
    "    pages = root.findall('.//' + namespace + 'page')\n",
    "    \n",
    "    content = []\n",
    "    for page in pages:\n",
    "        text_element = page.find('.//' + namespace + 'revision/' + namespace + 'text')\n",
    "        if text_element is not None:\n",
    "            text = text_element.text\n",
    "            # Remove the unwanted part using regex\n",
    "            text = re.sub(r'<div.*?>.*?</div>', '', text, flags=re.DOTALL)\n",
    "            content.append(text)\n",
    "    \n",
    "    print(f'{len(content)} pages have been extracted from {xml_file}')    \n",
    "    return '\\n\\n'.join(content)"
   ]
  },
  {
   "cell_type": "code",
   "execution_count": 8,
   "metadata": {},
   "outputs": [
    {
     "name": "stdout",
     "output_type": "stream",
     "text": [
      "573 pages have been extracted from ../resources/xml/ita-XXI/Wikisource-20240523182141.xml\n",
      "The content of Wikisource-20240523182141.xml has been appended to ../resources/input/ita-XXI.txt\n"
     ]
    }
   ],
   "source": [
    "# Walk through xml_dir directory\n",
    "for dirpath, dirnames, filenames in os.walk(xml_dir):\n",
    "    for filename in filenames:\n",
    "        # Check if the file has .xml extension\n",
    "        if filename.endswith('.xml'):\n",
    "            xml_file = os.path.join(dirpath, filename)\n",
    "            # Extract the text from the XML file\n",
    "            text_content = extract_text_from_xml(xml_file)\n",
    "            # Create the name of the output file by using the parent directory name\n",
    "            output_file = os.path.join(txt_dir, os.path.basename(dirpath) + '.txt')\n",
    "            # Append the extracted text in the output file\n",
    "            with open(output_file, 'a', encoding='utf-8') as f:\n",
    "                f.write(text_content + '\\n')\n",
    "\n",
    "            print(f'The content of {filename} has been appended to {output_file}')"
   ]
  }
 ],
 "metadata": {
  "kernelspec": {
   "display_name": "Python 3",
   "language": "python",
   "name": "python3"
  },
  "language_info": {
   "codemirror_mode": {
    "name": "ipython",
    "version": 3
   },
   "file_extension": ".py",
   "mimetype": "text/x-python",
   "name": "python",
   "nbconvert_exporter": "python",
   "pygments_lexer": "ipython3",
   "version": "3.10.12"
  }
 },
 "nbformat": 4,
 "nbformat_minor": 2
}
